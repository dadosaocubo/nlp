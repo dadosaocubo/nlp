{
  "nbformat": 4,
  "nbformat_minor": 0,
  "metadata": {
    "colab": {
      "name": "NLP_com_TensorFlow.ipynb",
      "provenance": [],
      "collapsed_sections": [],
      "toc_visible": true
    },
    "kernelspec": {
      "display_name": "Python 3",
      "language": "python",
      "name": "python3"
    },
    "language_info": {
      "codemirror_mode": {
        "name": "ipython",
        "version": 3
      },
      "file_extension": ".py",
      "mimetype": "text/x-python",
      "name": "python",
      "nbconvert_exporter": "python",
      "pygments_lexer": "ipython3",
      "version": "3.7.4"
    },
    "accelerator": "GPU"
  },
  "cells": [
    {
      "cell_type": "markdown",
      "metadata": {
        "id": "4bYFRc-l_ZmB",
        "colab_type": "text"
      },
      "source": [
        "![Texto](https://dadosaocubo.com/wp-content/uploads/2020/06/DADOS-AO-CUBO-Vers%C3%A3o-04-1.png) "
      ]
    },
    {
      "cell_type": "markdown",
      "metadata": {
        "id": "h4J3AFwDuuIz",
        "colab_type": "text"
      },
      "source": [
        "[__D³__](https://dadosaocubo.com/) by [__Tiago Dias__](https://www.linkedin.com/in/diasctiago/) "
      ]
    },
    {
      "cell_type": "code",
      "metadata": {
        "id": "wLYKXlwjLts6",
        "colab_type": "code",
        "colab": {
          "base_uri": "https://localhost:8080/",
          "height": 258
        },
        "outputId": "8014a538-5d30-4b85-92e8-215f88a51d59"
      },
      "source": [
        "!pip install wordninja\n",
        "!pip install textblob"
      ],
      "execution_count": 1,
      "outputs": [
        {
          "output_type": "stream",
          "text": [
            "Collecting wordninja\n",
            "\u001b[?25l  Downloading https://files.pythonhosted.org/packages/30/15/abe4af50f4be92b60c25e43c1c64d08453b51e46c32981d80b3aebec0260/wordninja-2.0.0.tar.gz (541kB)\n",
            "\u001b[K     |████████████████████████████████| 542kB 2.7MB/s \n",
            "\u001b[?25hBuilding wheels for collected packages: wordninja\n",
            "  Building wheel for wordninja (setup.py) ... \u001b[?25l\u001b[?25hdone\n",
            "  Created wheel for wordninja: filename=wordninja-2.0.0-cp36-none-any.whl size=541553 sha256=a8bfd84022e5ffb17b7ef1a199167d76df69fd2f95a6d9c7342ffb33d656970a\n",
            "  Stored in directory: /root/.cache/pip/wheels/22/46/06/9b6d10ed02c85e93c3bb33ac50e2d368b2586248f192a2e22a\n",
            "Successfully built wordninja\n",
            "Installing collected packages: wordninja\n",
            "Successfully installed wordninja-2.0.0\n",
            "Requirement already satisfied: textblob in /usr/local/lib/python3.6/dist-packages (0.15.3)\n",
            "Requirement already satisfied: nltk>=3.1 in /usr/local/lib/python3.6/dist-packages (from textblob) (3.2.5)\n",
            "Requirement already satisfied: six in /usr/local/lib/python3.6/dist-packages (from nltk>=3.1->textblob) (1.15.0)\n"
          ],
          "name": "stdout"
        }
      ]
    },
    {
      "cell_type": "code",
      "metadata": {
        "colab_type": "code",
        "id": "zFDGTw-jZMZ6",
        "colab": {
          "base_uri": "https://localhost:8080/",
          "height": 85
        },
        "outputId": "1a2d5a5d-4cd2-41e4-8056-fac341e865ef"
      },
      "source": [
        "# Importação dos pacotes para Analise\n",
        "import pandas as pd\n",
        "import numpy as np\n",
        "\n",
        "import nltk\n",
        "nltk.download('stopwords')\n",
        "nltk.download('punkt')\n",
        "from nltk.corpus import stopwords\n",
        "from nltk.tokenize import word_tokenize\n",
        "from nltk.tokenize.treebank import TreebankWordDetokenizer\n",
        "\n",
        "import wordninja\n",
        "import textblob\n",
        "import collections\n",
        "\n",
        "import tensorflow as tf\n",
        "import tensorflow_datasets as tfds\n",
        "from tensorflow import keras\n",
        "from tensorflow.keras import layers\n",
        "\n",
        "from sklearn.model_selection import train_test_split\n",
        "from sklearn.preprocessing import LabelEncoder"
      ],
      "execution_count": 2,
      "outputs": [
        {
          "output_type": "stream",
          "text": [
            "[nltk_data] Downloading package stopwords to /root/nltk_data...\n",
            "[nltk_data]   Unzipping corpora/stopwords.zip.\n",
            "[nltk_data] Downloading package punkt to /root/nltk_data...\n",
            "[nltk_data]   Unzipping tokenizers/punkt.zip.\n"
          ],
          "name": "stdout"
        }
      ]
    },
    {
      "cell_type": "code",
      "metadata": {
        "colab_type": "code",
        "id": "LWvbxWJqZMav",
        "colab": {}
      },
      "source": [
        "# Importação dos dataset\n",
        "df = pd.read_csv('https://raw.githubusercontent.com/dadosaocubo/nlp/master/mental_health.csv')"
      ],
      "execution_count": 3,
      "outputs": []
    },
    {
      "cell_type": "code",
      "metadata": {
        "id": "1Pi-j12D_l3k",
        "colab_type": "code",
        "colab": {
          "base_uri": "https://localhost:8080/",
          "height": 34
        },
        "outputId": "ded70311-8160-49fc-eee5-44ee1f085bb8"
      },
      "source": [
        "print('Tamanho do arquivo de Treino', df.shape)"
      ],
      "execution_count": 4,
      "outputs": [
        {
          "output_type": "stream",
          "text": [
            "Tamanho do arquivo de Treino (616, 3)\n"
          ],
          "name": "stdout"
        }
      ]
    },
    {
      "cell_type": "code",
      "metadata": {
        "id": "aPWpBItL_81v",
        "colab_type": "code",
        "colab": {
          "base_uri": "https://localhost:8080/",
          "height": 111
        },
        "outputId": "1868511c-8988-49af-e774-b3e911ad60ea"
      },
      "source": [
        "df.head(2)"
      ],
      "execution_count": 5,
      "outputs": [
        {
          "output_type": "execute_result",
          "data": {
            "text/html": [
              "<div>\n",
              "<style scoped>\n",
              "    .dataframe tbody tr th:only-of-type {\n",
              "        vertical-align: middle;\n",
              "    }\n",
              "\n",
              "    .dataframe tbody tr th {\n",
              "        vertical-align: top;\n",
              "    }\n",
              "\n",
              "    .dataframe thead th {\n",
              "        text-align: right;\n",
              "    }\n",
              "</style>\n",
              "<table border=\"1\" class=\"dataframe\">\n",
              "  <thead>\n",
              "    <tr style=\"text-align: right;\">\n",
              "      <th></th>\n",
              "      <th>ID</th>\n",
              "      <th>text</th>\n",
              "      <th>label</th>\n",
              "    </tr>\n",
              "  </thead>\n",
              "  <tbody>\n",
              "    <tr>\n",
              "      <th>0</th>\n",
              "      <td>0</td>\n",
              "      <td>I feel that it was better I dieAm happy</td>\n",
              "      <td>Depression</td>\n",
              "    </tr>\n",
              "    <tr>\n",
              "      <th>1</th>\n",
              "      <td>1</td>\n",
              "      <td>Why do I get hallucinations?</td>\n",
              "      <td>Drugs</td>\n",
              "    </tr>\n",
              "  </tbody>\n",
              "</table>\n",
              "</div>"
            ],
            "text/plain": [
              "   ID                                     text       label\n",
              "0   0  I feel that it was better I dieAm happy  Depression\n",
              "1   1             Why do I get hallucinations?       Drugs"
            ]
          },
          "metadata": {
            "tags": []
          },
          "execution_count": 5
        }
      ]
    },
    {
      "cell_type": "code",
      "metadata": {
        "id": "SlQ2YYCJx7ZL",
        "colab_type": "code",
        "colab": {}
      },
      "source": [
        "# Variáveis importantes\n",
        "# Palavras para retirar da análise\n",
        "stop_words = stopwords.words('english')\n",
        "# Variável tamando da base de teste\n",
        "test_size = 0.1\n",
        "# Variáveis do modelo\n",
        "epochs = 10\n",
        "batch_size = 128"
      ],
      "execution_count": null,
      "outputs": []
    },
    {
      "cell_type": "code",
      "metadata": {
        "id": "V2KsebPW97MJ",
        "colab_type": "code",
        "colab": {
          "base_uri": "https://localhost:8080/",
          "height": 111
        },
        "outputId": "08bc15e8-c202-42ff-fb34-9415e45b2f6d"
      },
      "source": [
        "# Separando palavras juntas\n",
        "df['text_split'] = df['text'].apply(wordninja.split)\n",
        "df['text_new'] = df['text_split'].apply(TreebankWordDetokenizer().detokenize)\n",
        "df.head(2)"
      ],
      "execution_count": 6,
      "outputs": [
        {
          "output_type": "execute_result",
          "data": {
            "text/html": [
              "<div>\n",
              "<style scoped>\n",
              "    .dataframe tbody tr th:only-of-type {\n",
              "        vertical-align: middle;\n",
              "    }\n",
              "\n",
              "    .dataframe tbody tr th {\n",
              "        vertical-align: top;\n",
              "    }\n",
              "\n",
              "    .dataframe thead th {\n",
              "        text-align: right;\n",
              "    }\n",
              "</style>\n",
              "<table border=\"1\" class=\"dataframe\">\n",
              "  <thead>\n",
              "    <tr style=\"text-align: right;\">\n",
              "      <th></th>\n",
              "      <th>ID</th>\n",
              "      <th>text</th>\n",
              "      <th>label</th>\n",
              "      <th>text_split</th>\n",
              "      <th>text_new</th>\n",
              "    </tr>\n",
              "  </thead>\n",
              "  <tbody>\n",
              "    <tr>\n",
              "      <th>0</th>\n",
              "      <td>0</td>\n",
              "      <td>I feel that it was better I dieAm happy</td>\n",
              "      <td>Depression</td>\n",
              "      <td>[I, feel, that, it, was, better, I, die, Am, h...</td>\n",
              "      <td>I feel that it was better I die Am happy</td>\n",
              "    </tr>\n",
              "    <tr>\n",
              "      <th>1</th>\n",
              "      <td>1</td>\n",
              "      <td>Why do I get hallucinations?</td>\n",
              "      <td>Drugs</td>\n",
              "      <td>[Why, do, I, get, hallucinations]</td>\n",
              "      <td>Why do I get hallucinations</td>\n",
              "    </tr>\n",
              "  </tbody>\n",
              "</table>\n",
              "</div>"
            ],
            "text/plain": [
              "   ID  ...                                  text_new\n",
              "0   0  ...  I feel that it was better I die Am happy\n",
              "1   1  ...               Why do I get hallucinations\n",
              "\n",
              "[2 rows x 5 columns]"
            ]
          },
          "metadata": {
            "tags": []
          },
          "execution_count": 6
        }
      ]
    },
    {
      "cell_type": "code",
      "metadata": {
        "id": "g_c8Jq3tE7DR",
        "colab_type": "code",
        "colab": {
          "base_uri": "https://localhost:8080/",
          "height": 111
        },
        "outputId": "dd4b5738-85d1-4c84-9af8-030e192af428"
      },
      "source": [
        "# Corrigindo palavras incorretas\n",
        "df['text_new'] = df['text_new'].apply(textblob.TextBlob).apply(textblob.TextBlob.correct).apply(str)\n",
        "df.head(2)"
      ],
      "execution_count": 7,
      "outputs": [
        {
          "output_type": "execute_result",
          "data": {
            "text/html": [
              "<div>\n",
              "<style scoped>\n",
              "    .dataframe tbody tr th:only-of-type {\n",
              "        vertical-align: middle;\n",
              "    }\n",
              "\n",
              "    .dataframe tbody tr th {\n",
              "        vertical-align: top;\n",
              "    }\n",
              "\n",
              "    .dataframe thead th {\n",
              "        text-align: right;\n",
              "    }\n",
              "</style>\n",
              "<table border=\"1\" class=\"dataframe\">\n",
              "  <thead>\n",
              "    <tr style=\"text-align: right;\">\n",
              "      <th></th>\n",
              "      <th>ID</th>\n",
              "      <th>text</th>\n",
              "      <th>label</th>\n",
              "      <th>text_split</th>\n",
              "      <th>text_new</th>\n",
              "    </tr>\n",
              "  </thead>\n",
              "  <tbody>\n",
              "    <tr>\n",
              "      <th>0</th>\n",
              "      <td>0</td>\n",
              "      <td>I feel that it was better I dieAm happy</td>\n",
              "      <td>Depression</td>\n",
              "      <td>[I, feel, that, it, was, better, I, die, Am, h...</td>\n",
              "      <td>I feel that it was better I die Am happy</td>\n",
              "    </tr>\n",
              "    <tr>\n",
              "      <th>1</th>\n",
              "      <td>1</td>\n",
              "      <td>Why do I get hallucinations?</td>\n",
              "      <td>Drugs</td>\n",
              "      <td>[Why, do, I, get, hallucinations]</td>\n",
              "      <td>Why do I get hallucinations</td>\n",
              "    </tr>\n",
              "  </tbody>\n",
              "</table>\n",
              "</div>"
            ],
            "text/plain": [
              "   ID  ...                                  text_new\n",
              "0   0  ...  I feel that it was better I die Am happy\n",
              "1   1  ...               Why do I get hallucinations\n",
              "\n",
              "[2 rows x 5 columns]"
            ]
          },
          "metadata": {
            "tags": []
          },
          "execution_count": 7
        }
      ]
    },
    {
      "cell_type": "code",
      "metadata": {
        "id": "4s135ayZMyQY",
        "colab_type": "code",
        "colab": {
          "base_uri": "https://localhost:8080/",
          "height": 102
        },
        "outputId": "e8bf1ab8-1d27-4b6b-e2ba-86fbe686f7f8"
      },
      "source": [
        "# Verificando quantas classes de cada\n",
        "df['label'].value_counts()"
      ],
      "execution_count": 8,
      "outputs": [
        {
          "output_type": "execute_result",
          "data": {
            "text/plain": [
              "Depression    352\n",
              "Alcohol       140\n",
              "Suicide        66\n",
              "Drugs          58\n",
              "Name: label, dtype: int64"
            ]
          },
          "metadata": {
            "tags": []
          },
          "execution_count": 8
        }
      ]
    },
    {
      "cell_type": "code",
      "metadata": {
        "colab_type": "code",
        "id": "OS_OWqsk_gV7",
        "colab": {
          "base_uri": "https://localhost:8080/",
          "height": 111
        },
        "outputId": "8c8c026b-04e1-47a7-b3a0-872d75ffa225"
      },
      "source": [
        "# Excluindo da descrição texto após os números, informações julgadas irrelevantes para a classificação.\n",
        "df['text_new'] = df['text_new'].str.replace('[0-9]+', '', regex=True).copy()\n",
        "# Excluindo da descrição puntuação, informações julgadas irrelevantes para a classificação.\n",
        "df['text_new'] = df['text_new'].str.replace('[,.:;!?]+', ' ', regex=True).copy()\n",
        "# Excluindo da descrição caracteres especiais, informações julgadas irrelevantes para a classificação.\n",
        "df['text_new'] = df['text_new'].str.replace('[/<>()|\\+\\-\\$%&#@\\'\\\"]+', ' ', regex=True).copy()\n",
        "# Colocando todos os caracteres em caixa baixa.\n",
        "df['text_new'] = df['text_new'].str.lower().copy()\n",
        "  \n",
        "df.head(2)"
      ],
      "execution_count": 10,
      "outputs": [
        {
          "output_type": "execute_result",
          "data": {
            "text/html": [
              "<div>\n",
              "<style scoped>\n",
              "    .dataframe tbody tr th:only-of-type {\n",
              "        vertical-align: middle;\n",
              "    }\n",
              "\n",
              "    .dataframe tbody tr th {\n",
              "        vertical-align: top;\n",
              "    }\n",
              "\n",
              "    .dataframe thead th {\n",
              "        text-align: right;\n",
              "    }\n",
              "</style>\n",
              "<table border=\"1\" class=\"dataframe\">\n",
              "  <thead>\n",
              "    <tr style=\"text-align: right;\">\n",
              "      <th></th>\n",
              "      <th>ID</th>\n",
              "      <th>text</th>\n",
              "      <th>label</th>\n",
              "      <th>text_split</th>\n",
              "      <th>text_new</th>\n",
              "    </tr>\n",
              "  </thead>\n",
              "  <tbody>\n",
              "    <tr>\n",
              "      <th>0</th>\n",
              "      <td>0</td>\n",
              "      <td>I feel that it was better I dieAm happy</td>\n",
              "      <td>Depression</td>\n",
              "      <td>[I, feel, that, it, was, better, I, die, Am, h...</td>\n",
              "      <td>i feel that it was better i die am happy</td>\n",
              "    </tr>\n",
              "    <tr>\n",
              "      <th>1</th>\n",
              "      <td>1</td>\n",
              "      <td>Why do I get hallucinations?</td>\n",
              "      <td>Drugs</td>\n",
              "      <td>[Why, do, I, get, hallucinations]</td>\n",
              "      <td>why do i get hallucinations</td>\n",
              "    </tr>\n",
              "  </tbody>\n",
              "</table>\n",
              "</div>"
            ],
            "text/plain": [
              "   ID  ...                                  text_new\n",
              "0   0  ...  i feel that it was better i die am happy\n",
              "1   1  ...               why do i get hallucinations\n",
              "\n",
              "[2 rows x 5 columns]"
            ]
          },
          "metadata": {
            "tags": []
          },
          "execution_count": 10
        }
      ]
    },
    {
      "cell_type": "code",
      "metadata": {
        "id": "4mIl_iDVjKay",
        "colab_type": "code",
        "colab": {
          "base_uri": "https://localhost:8080/",
          "height": 111
        },
        "outputId": "0133d89d-0459-4b24-8249-37ece0bdf771"
      },
      "source": [
        "# Função para retirar stop words\n",
        "def tokenize_df(tokenized_words):\n",
        "  tokenized_words = word_tokenize(tokenized_words)\n",
        "  stop = [word for word in tokenized_words if word not in stop_words]\n",
        "  text = TreebankWordDetokenizer().detokenize(stop)\n",
        "  return text\n",
        "\n",
        "# Eliminando as stop words\n",
        "df['text_new'] = df['text_new'].apply(tokenize_df).copy()\n",
        "df.head(2)"
      ],
      "execution_count": 11,
      "outputs": [
        {
          "output_type": "execute_result",
          "data": {
            "text/html": [
              "<div>\n",
              "<style scoped>\n",
              "    .dataframe tbody tr th:only-of-type {\n",
              "        vertical-align: middle;\n",
              "    }\n",
              "\n",
              "    .dataframe tbody tr th {\n",
              "        vertical-align: top;\n",
              "    }\n",
              "\n",
              "    .dataframe thead th {\n",
              "        text-align: right;\n",
              "    }\n",
              "</style>\n",
              "<table border=\"1\" class=\"dataframe\">\n",
              "  <thead>\n",
              "    <tr style=\"text-align: right;\">\n",
              "      <th></th>\n",
              "      <th>ID</th>\n",
              "      <th>text</th>\n",
              "      <th>label</th>\n",
              "      <th>text_split</th>\n",
              "      <th>text_new</th>\n",
              "    </tr>\n",
              "  </thead>\n",
              "  <tbody>\n",
              "    <tr>\n",
              "      <th>0</th>\n",
              "      <td>0</td>\n",
              "      <td>I feel that it was better I dieAm happy</td>\n",
              "      <td>Depression</td>\n",
              "      <td>[I, feel, that, it, was, better, I, die, Am, h...</td>\n",
              "      <td>feel better die happy</td>\n",
              "    </tr>\n",
              "    <tr>\n",
              "      <th>1</th>\n",
              "      <td>1</td>\n",
              "      <td>Why do I get hallucinations?</td>\n",
              "      <td>Drugs</td>\n",
              "      <td>[Why, do, I, get, hallucinations]</td>\n",
              "      <td>get hallucinations</td>\n",
              "    </tr>\n",
              "  </tbody>\n",
              "</table>\n",
              "</div>"
            ],
            "text/plain": [
              "   ID  ...               text_new\n",
              "0   0  ...  feel better die happy\n",
              "1   1  ...     get hallucinations\n",
              "\n",
              "[2 rows x 5 columns]"
            ]
          },
          "metadata": {
            "tags": []
          },
          "execution_count": 11
        }
      ]
    },
    {
      "cell_type": "code",
      "metadata": {
        "id": "_rRfDrmrjKkx",
        "colab_type": "code",
        "colab": {
          "base_uri": "https://localhost:8080/",
          "height": 119
        },
        "outputId": "e67402a4-bbe1-4f6a-e424-0b8742b75db8"
      },
      "source": [
        "# Selecionando as unicas palavras da variável text_new\n",
        "df['text_new_split'] = df['text_new'].apply(word_tokenize).copy()\n",
        "text = list(df.text_new_split)\n",
        "list_words = [item for sublist in text for item in sublist]\n",
        "list_words = sorted(list_words)\n",
        "only_words = set(list_words)\n",
        "print('Quantidade de frases:', len(text), '\\n')\n",
        "print('Quantidade de GERAL palavras:', len(list_words), '\\n')\n",
        "print('Quantidade de UNICA palavras:', len(only_words), '\\n')\n",
        "counter = collections.Counter(list_words)"
      ],
      "execution_count": 12,
      "outputs": [
        {
          "output_type": "stream",
          "text": [
            "Quantidade de frases: 616 \n",
            "\n",
            "Quantidade de GERAL palavras: 2293 \n",
            "\n",
            "Quantidade de UNICA palavras: 711 \n",
            "\n"
          ],
          "name": "stdout"
        }
      ]
    },
    {
      "cell_type": "code",
      "metadata": {
        "id": "5j3YSSqgg7iU",
        "colab_type": "code",
        "colab": {
          "base_uri": "https://localhost:8080/",
          "height": 128
        },
        "outputId": "271ef24e-7cb4-4192-f15b-684c2160efcc"
      },
      "source": [
        "df.head(2)"
      ],
      "execution_count": 13,
      "outputs": [
        {
          "output_type": "execute_result",
          "data": {
            "text/html": [
              "<div>\n",
              "<style scoped>\n",
              "    .dataframe tbody tr th:only-of-type {\n",
              "        vertical-align: middle;\n",
              "    }\n",
              "\n",
              "    .dataframe tbody tr th {\n",
              "        vertical-align: top;\n",
              "    }\n",
              "\n",
              "    .dataframe thead th {\n",
              "        text-align: right;\n",
              "    }\n",
              "</style>\n",
              "<table border=\"1\" class=\"dataframe\">\n",
              "  <thead>\n",
              "    <tr style=\"text-align: right;\">\n",
              "      <th></th>\n",
              "      <th>ID</th>\n",
              "      <th>text</th>\n",
              "      <th>label</th>\n",
              "      <th>text_split</th>\n",
              "      <th>text_new</th>\n",
              "      <th>text_new_split</th>\n",
              "    </tr>\n",
              "  </thead>\n",
              "  <tbody>\n",
              "    <tr>\n",
              "      <th>0</th>\n",
              "      <td>0</td>\n",
              "      <td>I feel that it was better I dieAm happy</td>\n",
              "      <td>Depression</td>\n",
              "      <td>[I, feel, that, it, was, better, I, die, Am, h...</td>\n",
              "      <td>feel better die happy</td>\n",
              "      <td>[feel, better, die, happy]</td>\n",
              "    </tr>\n",
              "    <tr>\n",
              "      <th>1</th>\n",
              "      <td>1</td>\n",
              "      <td>Why do I get hallucinations?</td>\n",
              "      <td>Drugs</td>\n",
              "      <td>[Why, do, I, get, hallucinations]</td>\n",
              "      <td>get hallucinations</td>\n",
              "      <td>[get, hallucinations]</td>\n",
              "    </tr>\n",
              "  </tbody>\n",
              "</table>\n",
              "</div>"
            ],
            "text/plain": [
              "   ID  ...              text_new_split\n",
              "0   0  ...  [feel, better, die, happy]\n",
              "1   1  ...       [get, hallucinations]\n",
              "\n",
              "[2 rows x 6 columns]"
            ]
          },
          "metadata": {
            "tags": []
          },
          "execution_count": 13
        }
      ]
    },
    {
      "cell_type": "code",
      "metadata": {
        "id": "HosHRnQvhAFA",
        "colab_type": "code",
        "colab": {
          "base_uri": "https://localhost:8080/",
          "height": 34
        },
        "outputId": "e02e34fb-fe87-4ccc-b87f-e897aaf91a8e"
      },
      "source": [
        "# Max tamanho dos text_new\n",
        "df['text_new_split'].apply(len).max()"
      ],
      "execution_count": 14,
      "outputs": [
        {
          "output_type": "execute_result",
          "data": {
            "text/plain": [
              "17"
            ]
          },
          "metadata": {
            "tags": []
          },
          "execution_count": 14
        }
      ]
    },
    {
      "cell_type": "code",
      "metadata": {
        "id": "dXSV_fmqjKnz",
        "colab_type": "code",
        "colab": {
          "base_uri": "https://localhost:8080/",
          "height": 34
        },
        "outputId": "b9cf5b68-267b-41b6-fede-52f8a7321989"
      },
      "source": [
        "# Gerando encoder com o vocabulário das palavras\n",
        "encoder = tfds.features.text.SubwordTextEncoder(vocab_list=only_words)\n",
        "print('Vocabulary size(text_new): {}'.format(encoder.vocab_size))"
      ],
      "execution_count": 15,
      "outputs": [
        {
          "output_type": "stream",
          "text": [
            "Vocabulary size(text_new): 968\n"
          ],
          "name": "stdout"
        }
      ]
    },
    {
      "cell_type": "code",
      "metadata": {
        "id": "4Lzjv_u_jKv3",
        "colab_type": "code",
        "colab": {
          "base_uri": "https://localhost:8080/",
          "height": 51
        },
        "outputId": "e0746876-5a8d-4c7d-ff41-2eff0fcbddc4"
      },
      "source": [
        "# Exemplo do encode e decode da text_new\t\n",
        "sample_string = 'feel better die happy'\n",
        "# Encode\n",
        "encoded_string = encoder.encode(sample_string)\n",
        "print('Encoded string is {}'.format(encoded_string))\n",
        "#Decode\n",
        "original_string = encoder.decode(encoded_string)\n",
        "print('The original string: \"{}\"'.format(original_string))"
      ],
      "execution_count": 16,
      "outputs": [
        {
          "output_type": "stream",
          "text": [
            "Encoded string is [630, 744, 649, 744, 219, 744, 399]\n",
            "The original string: \"feel better die happy\"\n"
          ],
          "name": "stdout"
        }
      ]
    },
    {
      "cell_type": "code",
      "metadata": {
        "id": "vOkqL9DrjKyr",
        "colab_type": "code",
        "colab": {
          "base_uri": "https://localhost:8080/",
          "height": 34
        },
        "outputId": "e5a1ed7f-bb76-4127-d02a-4c39a1953ce2"
      },
      "source": [
        "# Validando a string original com a string após o decode\n",
        "original_string == sample_string"
      ],
      "execution_count": 17,
      "outputs": [
        {
          "output_type": "execute_result",
          "data": {
            "text/plain": [
              "True"
            ]
          },
          "metadata": {
            "tags": []
          },
          "execution_count": 17
        }
      ]
    },
    {
      "cell_type": "code",
      "metadata": {
        "id": "gcMUAATTjK1H",
        "colab_type": "code",
        "colab": {
          "base_uri": "https://localhost:8080/",
          "height": 136
        },
        "outputId": "3f277821-9eaf-4334-d636-1d749f7cbb51"
      },
      "source": [
        "# Exemplificando a relação de index ----> word\n",
        "for index in encoded_string:\n",
        "  print('{} ----> {}'.format(index, encoder.decode([index])))"
      ],
      "execution_count": 18,
      "outputs": [
        {
          "output_type": "stream",
          "text": [
            "630 ----> feel\n",
            "744 ---->  \n",
            "649 ----> better\n",
            "744 ---->  \n",
            "219 ----> die\n",
            "744 ---->  \n",
            "399 ----> happy\n"
          ],
          "name": "stdout"
        }
      ]
    },
    {
      "cell_type": "code",
      "metadata": {
        "id": "0yp50ZxMjK3r",
        "colab_type": "code",
        "colab": {}
      },
      "source": [
        "# Encode do label\n",
        "label_encode = LabelEncoder()\n",
        "target = label_encode.fit_transform(df['label'])"
      ],
      "execution_count": 19,
      "outputs": []
    },
    {
      "cell_type": "code",
      "metadata": {
        "id": "PmDs3Z2GjK6T",
        "colab_type": "code",
        "colab": {}
      },
      "source": [
        "# Definindo feature e target\n",
        "x = df['text_new']\n",
        "y = target\n",
        "\n",
        "# Dividindo dataset em treino e teste\n",
        "x_train, x_test, y_train, y_test = train_test_split(x, y, test_size=test_size)"
      ],
      "execution_count": 20,
      "outputs": []
    },
    {
      "cell_type": "code",
      "metadata": {
        "id": "3m8-UyS_jK9Z",
        "colab_type": "code",
        "colab": {}
      },
      "source": [
        "# Criação da matriz\n",
        "def pad_to_size(vec, size):\n",
        "  zeros = [0] * (size - len(vec))\n",
        "  vec.extend(zeros)\n",
        "  return vec\n",
        "\n",
        "# Encode do input\n",
        "def encode_input(text_new):\n",
        "  list_x = []\n",
        "  for text in text_new:\n",
        "    text_encode = encoder.encode(text)\n",
        "    text_encode = pad_to_size(text_encode, 64)\n",
        "    list_x.append(text_encode)\n",
        "  # Convertendo x em tensor\n",
        "  input_encode = tf.cast(list_x, tf.float32)\n",
        "  return input_encode\n",
        "\n",
        "# Encode do x_train e x_test\n",
        "x_train = encode_input(x_train)\n",
        "x_test = encode_input(x_test)"
      ],
      "execution_count": 21,
      "outputs": []
    },
    {
      "cell_type": "code",
      "metadata": {
        "id": "HlG68x7zZouw",
        "colab_type": "code",
        "colab": {
          "base_uri": "https://localhost:8080/",
          "height": 357
        },
        "outputId": "9aa482e6-8347-4a25-cbe5-534592097c36"
      },
      "source": [
        "# Criação do modelo de RNN\n",
        "inputs = keras.Input(shape=(None,), dtype=\"int64\")\n",
        "x = layers.Embedding(encoder.vocab_size, 128)(inputs)\n",
        "x = layers.Bidirectional(layers.LSTM(64, return_sequences=True))(x)\n",
        "x = layers.Bidirectional(layers.LSTM(64))(x)\n",
        "x = layers.Dropout(0.5)(x)\n",
        "outputs = layers.Dense(4, activation=\"softmax\")(x)\n",
        "model = keras.Model(inputs, outputs)\n",
        "model.summary()"
      ],
      "execution_count": 22,
      "outputs": [
        {
          "output_type": "stream",
          "text": [
            "Model: \"functional_1\"\n",
            "_________________________________________________________________\n",
            "Layer (type)                 Output Shape              Param #   \n",
            "=================================================================\n",
            "input_1 (InputLayer)         [(None, None)]            0         \n",
            "_________________________________________________________________\n",
            "embedding (Embedding)        (None, None, 128)         123904    \n",
            "_________________________________________________________________\n",
            "bidirectional (Bidirectional (None, None, 128)         98816     \n",
            "_________________________________________________________________\n",
            "bidirectional_1 (Bidirection (None, 128)               98816     \n",
            "_________________________________________________________________\n",
            "dropout (Dropout)            (None, 128)               0         \n",
            "_________________________________________________________________\n",
            "dense (Dense)                (None, 4)                 516       \n",
            "=================================================================\n",
            "Total params: 322,052\n",
            "Trainable params: 322,052\n",
            "Non-trainable params: 0\n",
            "_________________________________________________________________\n"
          ],
          "name": "stdout"
        }
      ]
    },
    {
      "cell_type": "code",
      "metadata": {
        "id": "IapUftJwrCbp",
        "colab_type": "code",
        "colab": {
          "base_uri": "https://localhost:8080/",
          "height": 377
        },
        "outputId": "2518b4de-285d-4f7f-c10d-8ce73d9e4c82"
      },
      "source": [
        "# Compilando modelo e configurando o processo de treinamento\n",
        "model.compile(loss=\"sparse_categorical_crossentropy\",\n",
        "              optimizer=\"rmsprop\",\n",
        "              metrics=['accuracy'])\n",
        "\n",
        "# Treinando o modelo\n",
        "history = model.fit(x_train, y_train, epochs=epochs,\n",
        "                    batch_size=batch_size,\n",
        "                    validation_data=(x_test, y_test))"
      ],
      "execution_count": 23,
      "outputs": [
        {
          "output_type": "stream",
          "text": [
            "Epoch 1/10\n",
            "5/5 [==============================] - 2s 377ms/step - loss: 1.2448 - accuracy: 0.4928 - val_loss: 1.2326 - val_accuracy: 0.5484\n",
            "Epoch 2/10\n",
            "5/5 [==============================] - 0s 63ms/step - loss: 1.1629 - accuracy: 0.5704 - val_loss: 1.1172 - val_accuracy: 0.5484\n",
            "Epoch 3/10\n",
            "5/5 [==============================] - 0s 63ms/step - loss: 1.1009 - accuracy: 0.5740 - val_loss: 1.0436 - val_accuracy: 0.5484\n",
            "Epoch 4/10\n",
            "5/5 [==============================] - 0s 63ms/step - loss: 1.0371 - accuracy: 0.5830 - val_loss: 0.9823 - val_accuracy: 0.5484\n",
            "Epoch 5/10\n",
            "5/5 [==============================] - 0s 67ms/step - loss: 0.9547 - accuracy: 0.6101 - val_loss: 0.8875 - val_accuracy: 0.6613\n",
            "Epoch 6/10\n",
            "5/5 [==============================] - 0s 62ms/step - loss: 0.8047 - accuracy: 0.6643 - val_loss: 0.7926 - val_accuracy: 0.7419\n",
            "Epoch 7/10\n",
            "5/5 [==============================] - 0s 64ms/step - loss: 0.6446 - accuracy: 0.7599 - val_loss: 0.6841 - val_accuracy: 0.7742\n",
            "Epoch 8/10\n",
            "5/5 [==============================] - 0s 64ms/step - loss: 0.6301 - accuracy: 0.7491 - val_loss: 0.6979 - val_accuracy: 0.7742\n",
            "Epoch 9/10\n",
            "5/5 [==============================] - 0s 64ms/step - loss: 0.6166 - accuracy: 0.7780 - val_loss: 0.6648 - val_accuracy: 0.7903\n",
            "Epoch 10/10\n",
            "5/5 [==============================] - 0s 66ms/step - loss: 0.5172 - accuracy: 0.7834 - val_loss: 0.6392 - val_accuracy: 0.8065\n"
          ],
          "name": "stdout"
        }
      ]
    },
    {
      "cell_type": "code",
      "metadata": {
        "id": "2ynxEcPOrpo-",
        "colab_type": "code",
        "colab": {
          "base_uri": "https://localhost:8080/",
          "height": 68
        },
        "outputId": "371f80e6-c4de-4dbc-cb6e-98871e5f7080"
      },
      "source": [
        "# Testando a qualidade do modelo\n",
        "test_loss, test_acc = model.evaluate(x_test, y_test)\n",
        "\n",
        "print('Test Loss: {}'.format(test_loss))\n",
        "print('Test Accuracy: {}'.format(test_acc))"
      ],
      "execution_count": 24,
      "outputs": [
        {
          "output_type": "stream",
          "text": [
            "2/2 [==============================] - 0s 11ms/step - loss: 0.6392 - accuracy: 0.8065\n",
            "Test Loss: 0.6391738057136536\n",
            "Test Accuracy: 0.8064516186714172\n"
          ],
          "name": "stdout"
        }
      ]
    },
    {
      "cell_type": "code",
      "metadata": {
        "id": "cF-SQp7xsznB",
        "colab_type": "code",
        "colab": {}
      },
      "source": [
        "# Função para predição\n",
        "def sample_predict(sample_pred_text):\n",
        "  encoded_sample_pred_text = encoder.encode(sample_pred_text)\n",
        "  encoded_sample_pred_text = tf.cast(encoded_sample_pred_text, tf.float32)\n",
        "  predictions = model.predict(tf.expand_dims(encoded_sample_pred_text, 0))\n",
        "  return (predictions)"
      ],
      "execution_count": 25,
      "outputs": []
    },
    {
      "cell_type": "code",
      "metadata": {
        "id": "BFM6peFDtOXk",
        "colab_type": "code",
        "colab": {
          "base_uri": "https://localhost:8080/",
          "height": 34
        },
        "outputId": "4f035171-cb44-407d-c311-ec2d1eddd964"
      },
      "source": [
        "sample_predict('feel better die happy')"
      ],
      "execution_count": 26,
      "outputs": [
        {
          "output_type": "execute_result",
          "data": {
            "text/plain": [
              "array([[0.01524106, 0.93400633, 0.01055175, 0.04020079]], dtype=float32)"
            ]
          },
          "metadata": {
            "tags": []
          },
          "execution_count": 26
        }
      ]
    },
    {
      "cell_type": "code",
      "metadata": {
        "id": "-awoxRv4tfCW",
        "colab_type": "code",
        "colab": {
          "base_uri": "https://localhost:8080/",
          "height": 35
        },
        "outputId": "fac5158d-bbdb-49ab-c3e7-08eff4684081"
      },
      "source": [
        "# Predição do exemplo\n",
        "exemple = 'feel better die happy'\n",
        "predictions = sample_predict(exemple)\n",
        "probabilities = [np.argmax(predictions[0])]\n",
        "# Retornando os labels\n",
        "new_label = label_encode.inverse_transform(probabilities)\n",
        "new_label[0]"
      ],
      "execution_count": 27,
      "outputs": [
        {
          "output_type": "execute_result",
          "data": {
            "application/vnd.google.colaboratory.intrinsic+json": {
              "type": "string"
            },
            "text/plain": [
              "'Depression'"
            ]
          },
          "metadata": {
            "tags": []
          },
          "execution_count": 27
        }
      ]
    }
  ]
}