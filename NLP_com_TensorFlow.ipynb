{
  "nbformat": 4,
  "nbformat_minor": 0,
  "metadata": {
    "colab": {
      "name": "NLP_com_TensorFlow.ipynb",
      "provenance": [],
      "collapsed_sections": []
    },
    "kernelspec": {
      "display_name": "Python 3",
      "language": "python",
      "name": "python3"
    },
    "language_info": {
      "codemirror_mode": {
        "name": "ipython",
        "version": 3
      },
      "file_extension": ".py",
      "mimetype": "text/x-python",
      "name": "python",
      "nbconvert_exporter": "python",
      "pygments_lexer": "ipython3",
      "version": "3.7.4"
    },
    "accelerator": "GPU"
  },
  "cells": [
    {
      "cell_type": "markdown",
      "metadata": {
        "id": "4bYFRc-l_ZmB",
        "colab_type": "text"
      },
      "source": [
        "![Texto](https://dadosaocubo.com/wp-content/uploads/2020/06/DADOS-AO-CUBO-Vers%C3%A3o-04-1.png) "
      ]
    },
    {
      "cell_type": "markdown",
      "metadata": {
        "id": "h4J3AFwDuuIz",
        "colab_type": "text"
      },
      "source": [
        "[__D³__](https://dadosaocubo.com/) by [__Tiago Dias__](https://www.linkedin.com/in/diasctiago/) "
      ]
    },
    {
      "cell_type": "code",
      "metadata": {
        "id": "wLYKXlwjLts6",
        "colab_type": "code",
        "colab": {
          "base_uri": "https://localhost:8080/",
          "height": 238
        },
        "outputId": "54b70a62-9293-4130-8d87-88fd9d586870"
      },
      "source": [
        "!pip install wordninja\n",
        "!pip install textblob"
      ],
      "execution_count": 1,
      "outputs": [
        {
          "output_type": "stream",
          "text": [
            "Collecting wordninja\n",
            "\u001b[?25l  Downloading https://files.pythonhosted.org/packages/30/15/abe4af50f4be92b60c25e43c1c64d08453b51e46c32981d80b3aebec0260/wordninja-2.0.0.tar.gz (541kB)\n",
            "\u001b[K     |████████████████████████████████| 542kB 2.6MB/s \n",
            "\u001b[?25hBuilding wheels for collected packages: wordninja\n",
            "  Building wheel for wordninja (setup.py) ... \u001b[?25l\u001b[?25hdone\n",
            "  Created wheel for wordninja: filename=wordninja-2.0.0-cp36-none-any.whl size=541553 sha256=57ca6397672c0614e0fba581f53ff08ca585fd34e348941fecc021712ca7598d\n",
            "  Stored in directory: /root/.cache/pip/wheels/22/46/06/9b6d10ed02c85e93c3bb33ac50e2d368b2586248f192a2e22a\n",
            "Successfully built wordninja\n",
            "Installing collected packages: wordninja\n",
            "Successfully installed wordninja-2.0.0\n",
            "Requirement already satisfied: textblob in /usr/local/lib/python3.6/dist-packages (0.15.3)\n",
            "Requirement already satisfied: nltk>=3.1 in /usr/local/lib/python3.6/dist-packages (from textblob) (3.2.5)\n",
            "Requirement already satisfied: six in /usr/local/lib/python3.6/dist-packages (from nltk>=3.1->textblob) (1.15.0)\n"
          ],
          "name": "stdout"
        }
      ]
    },
    {
      "cell_type": "markdown",
      "metadata": {
        "id": "3XZ9JoWeMNLy",
        "colab_type": "text"
      },
      "source": [
        "# Carregando Bibliotecas e Dataset"
      ]
    },
    {
      "cell_type": "code",
      "metadata": {
        "colab_type": "code",
        "id": "zFDGTw-jZMZ6",
        "colab": {
          "base_uri": "https://localhost:8080/",
          "height": 85
        },
        "outputId": "139419bc-001c-4d47-cb70-f2c471d0e44a"
      },
      "source": [
        "# Importação das bibliotecas\n",
        "import pandas as pd\n",
        "import numpy as np\n",
        "import nltk\n",
        "nltk.download('stopwords')\n",
        "nltk.download('punkt')\n",
        "from nltk.corpus import stopwords\n",
        "from nltk.tokenize import word_tokenize\n",
        "from nltk.tokenize.treebank import TreebankWordDetokenizer\n",
        "import wordninja\n",
        "import textblob\n",
        "import collections\n",
        "import tensorflow as tf\n",
        "import tensorflow_datasets as tfds\n",
        "from tensorflow import keras\n",
        "from tensorflow.keras import layers\n",
        "from sklearn.model_selection import train_test_split\n",
        "from sklearn.preprocessing import LabelEncoder"
      ],
      "execution_count": 2,
      "outputs": [
        {
          "output_type": "stream",
          "text": [
            "[nltk_data] Downloading package stopwords to /root/nltk_data...\n",
            "[nltk_data]   Unzipping corpora/stopwords.zip.\n",
            "[nltk_data] Downloading package punkt to /root/nltk_data...\n",
            "[nltk_data]   Unzipping tokenizers/punkt.zip.\n"
          ],
          "name": "stdout"
        }
      ]
    },
    {
      "cell_type": "code",
      "metadata": {
        "colab_type": "code",
        "id": "LWvbxWJqZMav",
        "colab": {}
      },
      "source": [
        "# Importação dos dataset\n",
        "df = pd.read_csv('https://raw.githubusercontent.com/dadosaocubo/nlp/master/mental_health.csv')"
      ],
      "execution_count": 3,
      "outputs": []
    },
    {
      "cell_type": "code",
      "metadata": {
        "id": "1Pi-j12D_l3k",
        "colab_type": "code",
        "colab": {
          "base_uri": "https://localhost:8080/",
          "height": 34
        },
        "outputId": "b4aca0fe-0e8a-48b1-ad5b-1e14fdf8d662"
      },
      "source": [
        "print('Tamanho do arquivo de Treino', df.shape)"
      ],
      "execution_count": 4,
      "outputs": [
        {
          "output_type": "stream",
          "text": [
            "Tamanho do arquivo de Treino (616, 3)\n"
          ],
          "name": "stdout"
        }
      ]
    },
    {
      "cell_type": "code",
      "metadata": {
        "id": "aPWpBItL_81v",
        "colab_type": "code",
        "colab": {
          "base_uri": "https://localhost:8080/",
          "height": 111
        },
        "outputId": "8cd05951-29be-4770-9424-6338ca11e8e0"
      },
      "source": [
        "df.head(2)"
      ],
      "execution_count": 5,
      "outputs": [
        {
          "output_type": "execute_result",
          "data": {
            "text/html": [
              "<div>\n",
              "<style scoped>\n",
              "    .dataframe tbody tr th:only-of-type {\n",
              "        vertical-align: middle;\n",
              "    }\n",
              "\n",
              "    .dataframe tbody tr th {\n",
              "        vertical-align: top;\n",
              "    }\n",
              "\n",
              "    .dataframe thead th {\n",
              "        text-align: right;\n",
              "    }\n",
              "</style>\n",
              "<table border=\"1\" class=\"dataframe\">\n",
              "  <thead>\n",
              "    <tr style=\"text-align: right;\">\n",
              "      <th></th>\n",
              "      <th>ID</th>\n",
              "      <th>text</th>\n",
              "      <th>label</th>\n",
              "    </tr>\n",
              "  </thead>\n",
              "  <tbody>\n",
              "    <tr>\n",
              "      <th>0</th>\n",
              "      <td>0</td>\n",
              "      <td>I feel that it was better I dieAm happy</td>\n",
              "      <td>Depression</td>\n",
              "    </tr>\n",
              "    <tr>\n",
              "      <th>1</th>\n",
              "      <td>1</td>\n",
              "      <td>Why do I get hallucinations?</td>\n",
              "      <td>Drugs</td>\n",
              "    </tr>\n",
              "  </tbody>\n",
              "</table>\n",
              "</div>"
            ],
            "text/plain": [
              "   ID                                     text       label\n",
              "0   0  I feel that it was better I dieAm happy  Depression\n",
              "1   1             Why do I get hallucinations?       Drugs"
            ]
          },
          "metadata": {
            "tags": []
          },
          "execution_count": 5
        }
      ]
    },
    {
      "cell_type": "markdown",
      "metadata": {
        "id": "DUpTx4yKFSnw",
        "colab_type": "text"
      },
      "source": [
        "### Variáveis importantes"
      ]
    },
    {
      "cell_type": "code",
      "metadata": {
        "id": "SlQ2YYCJx7ZL",
        "colab_type": "code",
        "colab": {}
      },
      "source": [
        "# Palavras para retirar da análise\n",
        "stop_words = stopwords.words('english')\n",
        "# Variável tamando da base de teste\n",
        "test_size = 0.1\n",
        "# Variáveis do modelo\n",
        "epochs = 10\n",
        "batch_size = 128"
      ],
      "execution_count": 6,
      "outputs": []
    },
    {
      "cell_type": "markdown",
      "metadata": {
        "id": "PW6GVOLfMT3-",
        "colab_type": "text"
      },
      "source": [
        "# Preparação dos Dados"
      ]
    },
    {
      "cell_type": "code",
      "metadata": {
        "id": "V2KsebPW97MJ",
        "colab_type": "code",
        "colab": {
          "base_uri": "https://localhost:8080/",
          "height": 111
        },
        "outputId": "389aad43-d26a-42d8-c4bf-a87900f85b51"
      },
      "source": [
        "# Separando palavras juntas\n",
        "df['text_split'] = df['text'].apply(wordninja.split)\n",
        "df['text_new'] = df['text_split'].apply(TreebankWordDetokenizer().detokenize)\n",
        "df.head(2)"
      ],
      "execution_count": 7,
      "outputs": [
        {
          "output_type": "execute_result",
          "data": {
            "text/html": [
              "<div>\n",
              "<style scoped>\n",
              "    .dataframe tbody tr th:only-of-type {\n",
              "        vertical-align: middle;\n",
              "    }\n",
              "\n",
              "    .dataframe tbody tr th {\n",
              "        vertical-align: top;\n",
              "    }\n",
              "\n",
              "    .dataframe thead th {\n",
              "        text-align: right;\n",
              "    }\n",
              "</style>\n",
              "<table border=\"1\" class=\"dataframe\">\n",
              "  <thead>\n",
              "    <tr style=\"text-align: right;\">\n",
              "      <th></th>\n",
              "      <th>ID</th>\n",
              "      <th>text</th>\n",
              "      <th>label</th>\n",
              "      <th>text_split</th>\n",
              "      <th>text_new</th>\n",
              "    </tr>\n",
              "  </thead>\n",
              "  <tbody>\n",
              "    <tr>\n",
              "      <th>0</th>\n",
              "      <td>0</td>\n",
              "      <td>I feel that it was better I dieAm happy</td>\n",
              "      <td>Depression</td>\n",
              "      <td>[I, feel, that, it, was, better, I, die, Am, h...</td>\n",
              "      <td>I feel that it was better I die Am happy</td>\n",
              "    </tr>\n",
              "    <tr>\n",
              "      <th>1</th>\n",
              "      <td>1</td>\n",
              "      <td>Why do I get hallucinations?</td>\n",
              "      <td>Drugs</td>\n",
              "      <td>[Why, do, I, get, hallucinations]</td>\n",
              "      <td>Why do I get hallucinations</td>\n",
              "    </tr>\n",
              "  </tbody>\n",
              "</table>\n",
              "</div>"
            ],
            "text/plain": [
              "   ID  ...                                  text_new\n",
              "0   0  ...  I feel that it was better I die Am happy\n",
              "1   1  ...               Why do I get hallucinations\n",
              "\n",
              "[2 rows x 5 columns]"
            ]
          },
          "metadata": {
            "tags": []
          },
          "execution_count": 7
        }
      ]
    },
    {
      "cell_type": "code",
      "metadata": {
        "id": "g_c8Jq3tE7DR",
        "colab_type": "code",
        "colab": {
          "base_uri": "https://localhost:8080/",
          "height": 111
        },
        "outputId": "1061dd9f-3c11-4e8f-86e8-090ffb5fa80a"
      },
      "source": [
        "# Corrigindo palavras incorretas\n",
        "df['text_new'] = df['text_new'].apply(textblob.TextBlob).apply(textblob.TextBlob.correct).apply(str)\n",
        "df.head(2)"
      ],
      "execution_count": 8,
      "outputs": [
        {
          "output_type": "execute_result",
          "data": {
            "text/html": [
              "<div>\n",
              "<style scoped>\n",
              "    .dataframe tbody tr th:only-of-type {\n",
              "        vertical-align: middle;\n",
              "    }\n",
              "\n",
              "    .dataframe tbody tr th {\n",
              "        vertical-align: top;\n",
              "    }\n",
              "\n",
              "    .dataframe thead th {\n",
              "        text-align: right;\n",
              "    }\n",
              "</style>\n",
              "<table border=\"1\" class=\"dataframe\">\n",
              "  <thead>\n",
              "    <tr style=\"text-align: right;\">\n",
              "      <th></th>\n",
              "      <th>ID</th>\n",
              "      <th>text</th>\n",
              "      <th>label</th>\n",
              "      <th>text_split</th>\n",
              "      <th>text_new</th>\n",
              "    </tr>\n",
              "  </thead>\n",
              "  <tbody>\n",
              "    <tr>\n",
              "      <th>0</th>\n",
              "      <td>0</td>\n",
              "      <td>I feel that it was better I dieAm happy</td>\n",
              "      <td>Depression</td>\n",
              "      <td>[I, feel, that, it, was, better, I, die, Am, h...</td>\n",
              "      <td>I feel that it was better I die Am happy</td>\n",
              "    </tr>\n",
              "    <tr>\n",
              "      <th>1</th>\n",
              "      <td>1</td>\n",
              "      <td>Why do I get hallucinations?</td>\n",
              "      <td>Drugs</td>\n",
              "      <td>[Why, do, I, get, hallucinations]</td>\n",
              "      <td>Why do I get hallucinations</td>\n",
              "    </tr>\n",
              "  </tbody>\n",
              "</table>\n",
              "</div>"
            ],
            "text/plain": [
              "   ID  ...                                  text_new\n",
              "0   0  ...  I feel that it was better I die Am happy\n",
              "1   1  ...               Why do I get hallucinations\n",
              "\n",
              "[2 rows x 5 columns]"
            ]
          },
          "metadata": {
            "tags": []
          },
          "execution_count": 8
        }
      ]
    },
    {
      "cell_type": "code",
      "metadata": {
        "id": "4s135ayZMyQY",
        "colab_type": "code",
        "colab": {
          "base_uri": "https://localhost:8080/",
          "height": 102
        },
        "outputId": "5700aea6-6d62-4e9f-e50c-e6f2f6119f92"
      },
      "source": [
        "# Verificando quantas classes de cada\n",
        "df['label'].value_counts()"
      ],
      "execution_count": 9,
      "outputs": [
        {
          "output_type": "execute_result",
          "data": {
            "text/plain": [
              "Depression    352\n",
              "Alcohol       140\n",
              "Suicide        66\n",
              "Drugs          58\n",
              "Name: label, dtype: int64"
            ]
          },
          "metadata": {
            "tags": []
          },
          "execution_count": 9
        }
      ]
    },
    {
      "cell_type": "code",
      "metadata": {
        "colab_type": "code",
        "id": "OS_OWqsk_gV7",
        "colab": {
          "base_uri": "https://localhost:8080/",
          "height": 111
        },
        "outputId": "2bbd7aae-81f5-40bb-a43d-e44f6a62dae3"
      },
      "source": [
        "# Excluindo da descrição os números, informações julgadas irrelevantes para a classificação.\n",
        "df['text_new'] = df['text_new'].str.replace('[0-9]+', '', regex=True).copy()\n",
        "# Excluindo da descrição puntuação, informações julgadas irrelevantes para a classificação.\n",
        "df['text_new'] = df['text_new'].str.replace('[,.:;!?]+', ' ', regex=True).copy()\n",
        "# Excluindo da descrição caracteres especiais, informações julgadas irrelevantes para a classificação.\n",
        "df['text_new'] = df['text_new'].str.replace('[/<>()|\\+\\-\\$%&#@\\'\\\"]+', ' ', regex=True).copy()\n",
        "# Colocando todos os caracteres em caixa baixa.\n",
        "df['text_new'] = df['text_new'].str.lower().copy()\n",
        "df.head(2)"
      ],
      "execution_count": 10,
      "outputs": [
        {
          "output_type": "execute_result",
          "data": {
            "text/html": [
              "<div>\n",
              "<style scoped>\n",
              "    .dataframe tbody tr th:only-of-type {\n",
              "        vertical-align: middle;\n",
              "    }\n",
              "\n",
              "    .dataframe tbody tr th {\n",
              "        vertical-align: top;\n",
              "    }\n",
              "\n",
              "    .dataframe thead th {\n",
              "        text-align: right;\n",
              "    }\n",
              "</style>\n",
              "<table border=\"1\" class=\"dataframe\">\n",
              "  <thead>\n",
              "    <tr style=\"text-align: right;\">\n",
              "      <th></th>\n",
              "      <th>ID</th>\n",
              "      <th>text</th>\n",
              "      <th>label</th>\n",
              "      <th>text_split</th>\n",
              "      <th>text_new</th>\n",
              "    </tr>\n",
              "  </thead>\n",
              "  <tbody>\n",
              "    <tr>\n",
              "      <th>0</th>\n",
              "      <td>0</td>\n",
              "      <td>I feel that it was better I dieAm happy</td>\n",
              "      <td>Depression</td>\n",
              "      <td>[I, feel, that, it, was, better, I, die, Am, h...</td>\n",
              "      <td>i feel that it was better i die am happy</td>\n",
              "    </tr>\n",
              "    <tr>\n",
              "      <th>1</th>\n",
              "      <td>1</td>\n",
              "      <td>Why do I get hallucinations?</td>\n",
              "      <td>Drugs</td>\n",
              "      <td>[Why, do, I, get, hallucinations]</td>\n",
              "      <td>why do i get hallucinations</td>\n",
              "    </tr>\n",
              "  </tbody>\n",
              "</table>\n",
              "</div>"
            ],
            "text/plain": [
              "   ID  ...                                  text_new\n",
              "0   0  ...  i feel that it was better i die am happy\n",
              "1   1  ...               why do i get hallucinations\n",
              "\n",
              "[2 rows x 5 columns]"
            ]
          },
          "metadata": {
            "tags": []
          },
          "execution_count": 10
        }
      ]
    },
    {
      "cell_type": "code",
      "metadata": {
        "id": "4mIl_iDVjKay",
        "colab_type": "code",
        "colab": {
          "base_uri": "https://localhost:8080/",
          "height": 111
        },
        "outputId": "ccc42e4a-5cbb-4f5b-fd2f-173ef4a361e2"
      },
      "source": [
        "# Função para retirar stop words\n",
        "def tokenize_df(tokenized_words):\n",
        "  tokenized_words = word_tokenize(tokenized_words)\n",
        "  stop = [word for word in tokenized_words if word not in stop_words]\n",
        "  text = TreebankWordDetokenizer().detokenize(stop)\n",
        "  return text\n",
        "# Eliminando as stop words\n",
        "df['text_new'] = df['text_new'].apply(tokenize_df).copy()\n",
        "df.head(2)"
      ],
      "execution_count": 11,
      "outputs": [
        {
          "output_type": "execute_result",
          "data": {
            "text/html": [
              "<div>\n",
              "<style scoped>\n",
              "    .dataframe tbody tr th:only-of-type {\n",
              "        vertical-align: middle;\n",
              "    }\n",
              "\n",
              "    .dataframe tbody tr th {\n",
              "        vertical-align: top;\n",
              "    }\n",
              "\n",
              "    .dataframe thead th {\n",
              "        text-align: right;\n",
              "    }\n",
              "</style>\n",
              "<table border=\"1\" class=\"dataframe\">\n",
              "  <thead>\n",
              "    <tr style=\"text-align: right;\">\n",
              "      <th></th>\n",
              "      <th>ID</th>\n",
              "      <th>text</th>\n",
              "      <th>label</th>\n",
              "      <th>text_split</th>\n",
              "      <th>text_new</th>\n",
              "    </tr>\n",
              "  </thead>\n",
              "  <tbody>\n",
              "    <tr>\n",
              "      <th>0</th>\n",
              "      <td>0</td>\n",
              "      <td>I feel that it was better I dieAm happy</td>\n",
              "      <td>Depression</td>\n",
              "      <td>[I, feel, that, it, was, better, I, die, Am, h...</td>\n",
              "      <td>feel better die happy</td>\n",
              "    </tr>\n",
              "    <tr>\n",
              "      <th>1</th>\n",
              "      <td>1</td>\n",
              "      <td>Why do I get hallucinations?</td>\n",
              "      <td>Drugs</td>\n",
              "      <td>[Why, do, I, get, hallucinations]</td>\n",
              "      <td>get hallucinations</td>\n",
              "    </tr>\n",
              "  </tbody>\n",
              "</table>\n",
              "</div>"
            ],
            "text/plain": [
              "   ID  ...               text_new\n",
              "0   0  ...  feel better die happy\n",
              "1   1  ...     get hallucinations\n",
              "\n",
              "[2 rows x 5 columns]"
            ]
          },
          "metadata": {
            "tags": []
          },
          "execution_count": 11
        }
      ]
    },
    {
      "cell_type": "code",
      "metadata": {
        "id": "_rRfDrmrjKkx",
        "colab_type": "code",
        "colab": {
          "base_uri": "https://localhost:8080/",
          "height": 119
        },
        "outputId": "404bf283-75ed-4f1a-ada6-0438a04c59ff"
      },
      "source": [
        "# Selecionando as unicas palavras da variável text_new\n",
        "df['text_new_split'] = df['text_new'].apply(word_tokenize).copy()\n",
        "text = list(df.text_new_split)\n",
        "list_words = [item for sublist in text for item in sublist]\n",
        "list_words = sorted(list_words)\n",
        "only_words = set(list_words)\n",
        "print('Quantidade de frases:', len(text), '\\n')\n",
        "print('Quantidade de GERAL palavras:', len(list_words), '\\n')\n",
        "print('Quantidade de UNICA palavras:', len(only_words), '\\n')\n",
        "counter = collections.Counter(list_words)"
      ],
      "execution_count": 12,
      "outputs": [
        {
          "output_type": "stream",
          "text": [
            "Quantidade de frases: 616 \n",
            "\n",
            "Quantidade de GERAL palavras: 2293 \n",
            "\n",
            "Quantidade de UNICA palavras: 711 \n",
            "\n"
          ],
          "name": "stdout"
        }
      ]
    },
    {
      "cell_type": "code",
      "metadata": {
        "id": "5j3YSSqgg7iU",
        "colab_type": "code",
        "colab": {
          "base_uri": "https://localhost:8080/",
          "height": 111
        },
        "outputId": "33902dd8-2c06-473a-87f1-8ae3002ecb24"
      },
      "source": [
        "df.head(2)"
      ],
      "execution_count": 13,
      "outputs": [
        {
          "output_type": "execute_result",
          "data": {
            "text/html": [
              "<div>\n",
              "<style scoped>\n",
              "    .dataframe tbody tr th:only-of-type {\n",
              "        vertical-align: middle;\n",
              "    }\n",
              "\n",
              "    .dataframe tbody tr th {\n",
              "        vertical-align: top;\n",
              "    }\n",
              "\n",
              "    .dataframe thead th {\n",
              "        text-align: right;\n",
              "    }\n",
              "</style>\n",
              "<table border=\"1\" class=\"dataframe\">\n",
              "  <thead>\n",
              "    <tr style=\"text-align: right;\">\n",
              "      <th></th>\n",
              "      <th>ID</th>\n",
              "      <th>text</th>\n",
              "      <th>label</th>\n",
              "      <th>text_split</th>\n",
              "      <th>text_new</th>\n",
              "      <th>text_new_split</th>\n",
              "    </tr>\n",
              "  </thead>\n",
              "  <tbody>\n",
              "    <tr>\n",
              "      <th>0</th>\n",
              "      <td>0</td>\n",
              "      <td>I feel that it was better I dieAm happy</td>\n",
              "      <td>Depression</td>\n",
              "      <td>[I, feel, that, it, was, better, I, die, Am, h...</td>\n",
              "      <td>feel better die happy</td>\n",
              "      <td>[feel, better, die, happy]</td>\n",
              "    </tr>\n",
              "    <tr>\n",
              "      <th>1</th>\n",
              "      <td>1</td>\n",
              "      <td>Why do I get hallucinations?</td>\n",
              "      <td>Drugs</td>\n",
              "      <td>[Why, do, I, get, hallucinations]</td>\n",
              "      <td>get hallucinations</td>\n",
              "      <td>[get, hallucinations]</td>\n",
              "    </tr>\n",
              "  </tbody>\n",
              "</table>\n",
              "</div>"
            ],
            "text/plain": [
              "   ID  ...              text_new_split\n",
              "0   0  ...  [feel, better, die, happy]\n",
              "1   1  ...       [get, hallucinations]\n",
              "\n",
              "[2 rows x 6 columns]"
            ]
          },
          "metadata": {
            "tags": []
          },
          "execution_count": 13
        }
      ]
    },
    {
      "cell_type": "code",
      "metadata": {
        "id": "HosHRnQvhAFA",
        "colab_type": "code",
        "colab": {
          "base_uri": "https://localhost:8080/",
          "height": 34
        },
        "outputId": "902532c2-d54c-478d-de74-ad9c4739353f"
      },
      "source": [
        "# Max tamanho dos text_new\n",
        "df['text_new_split'].apply(len).max()"
      ],
      "execution_count": 14,
      "outputs": [
        {
          "output_type": "execute_result",
          "data": {
            "text/plain": [
              "17"
            ]
          },
          "metadata": {
            "tags": []
          },
          "execution_count": 14
        }
      ]
    },
    {
      "cell_type": "code",
      "metadata": {
        "id": "dXSV_fmqjKnz",
        "colab_type": "code",
        "colab": {
          "base_uri": "https://localhost:8080/",
          "height": 34
        },
        "outputId": "54f32d77-f063-4b87-9a3b-5f29408f526f"
      },
      "source": [
        "# Gerando encoder com o vocabulário das palavras\n",
        "encoder = tfds.features.text.SubwordTextEncoder(vocab_list=only_words)\n",
        "print('Vocabulary size(text_new): {}'.format(encoder.vocab_size))"
      ],
      "execution_count": 15,
      "outputs": [
        {
          "output_type": "stream",
          "text": [
            "Vocabulary size(text_new): 968\n"
          ],
          "name": "stdout"
        }
      ]
    },
    {
      "cell_type": "code",
      "metadata": {
        "id": "4Lzjv_u_jKv3",
        "colab_type": "code",
        "colab": {
          "base_uri": "https://localhost:8080/",
          "height": 51
        },
        "outputId": "0029baf8-af77-4fc3-f008-cb1315a23d6e"
      },
      "source": [
        "# Exemplo do encode e decode da text_new\t\n",
        "sample_string = 'feel better die happy'\n",
        "# Encode\n",
        "encoded_string = encoder.encode(sample_string)\n",
        "print('Encoded string is {}'.format(encoded_string))\n",
        "#Decode\n",
        "original_string = encoder.decode(encoded_string)\n",
        "print('The original string: \"{}\"'.format(original_string))"
      ],
      "execution_count": 16,
      "outputs": [
        {
          "output_type": "stream",
          "text": [
            "Encoded string is [390, 744, 4, 744, 449, 744, 300]\n",
            "The original string: \"feel better die happy\"\n"
          ],
          "name": "stdout"
        }
      ]
    },
    {
      "cell_type": "code",
      "metadata": {
        "id": "vOkqL9DrjKyr",
        "colab_type": "code",
        "colab": {
          "base_uri": "https://localhost:8080/",
          "height": 34
        },
        "outputId": "ba1cd9fe-9768-438f-fad5-84d7139a2b0b"
      },
      "source": [
        "# Validando a string original com a string após o decode\n",
        "original_string == sample_string"
      ],
      "execution_count": 17,
      "outputs": [
        {
          "output_type": "execute_result",
          "data": {
            "text/plain": [
              "True"
            ]
          },
          "metadata": {
            "tags": []
          },
          "execution_count": 17
        }
      ]
    },
    {
      "cell_type": "code",
      "metadata": {
        "id": "gcMUAATTjK1H",
        "colab_type": "code",
        "colab": {
          "base_uri": "https://localhost:8080/",
          "height": 136
        },
        "outputId": "b2f3829d-2bed-4313-9fa9-19bbe4447ebd"
      },
      "source": [
        "# Exemplificando a relação de index ----> word\n",
        "for index in encoded_string:\n",
        "  print('{} ----> {}'.format(index, encoder.decode([index])))"
      ],
      "execution_count": 18,
      "outputs": [
        {
          "output_type": "stream",
          "text": [
            "390 ----> feel\n",
            "744 ---->  \n",
            "4 ----> better\n",
            "744 ---->  \n",
            "449 ----> die\n",
            "744 ---->  \n",
            "300 ----> happy\n"
          ],
          "name": "stdout"
        }
      ]
    },
    {
      "cell_type": "code",
      "metadata": {
        "id": "0yp50ZxMjK3r",
        "colab_type": "code",
        "colab": {}
      },
      "source": [
        "# Encode do label\n",
        "label_encode = LabelEncoder()\n",
        "target = label_encode.fit_transform(df['label'])"
      ],
      "execution_count": 19,
      "outputs": []
    },
    {
      "cell_type": "code",
      "metadata": {
        "id": "PmDs3Z2GjK6T",
        "colab_type": "code",
        "colab": {}
      },
      "source": [
        "# Definindo feature e target\n",
        "x = df['text_new']\n",
        "y = target\n",
        "# Dividindo dataset em treino e teste\n",
        "x_train, x_test, y_train, y_test = train_test_split(x, y, test_size=test_size)"
      ],
      "execution_count": 20,
      "outputs": []
    },
    {
      "cell_type": "code",
      "metadata": {
        "id": "3m8-UyS_jK9Z",
        "colab_type": "code",
        "colab": {}
      },
      "source": [
        "# Função para criação da matriz\n",
        "def pad_to_size(vec, size):\n",
        "  zeros = [0] * (size - len(vec))\n",
        "  vec.extend(zeros)\n",
        "  return vec\n",
        "# Função para encode do input\n",
        "def encode_input(text_new):\n",
        "  list_x = []\n",
        "  for text in text_new:\n",
        "    text_encode = encoder.encode(text)\n",
        "    text_encode = pad_to_size(text_encode, 64)\n",
        "    list_x.append(text_encode)\n",
        "  # Convertendo x em tensor\n",
        "  input_encode = tf.cast(list_x, tf.float32)\n",
        "  return input_encode\n",
        "# Encode do x_train e x_test\n",
        "x_train = encode_input(x_train)\n",
        "x_test = encode_input(x_test)"
      ],
      "execution_count": 21,
      "outputs": []
    },
    {
      "cell_type": "markdown",
      "metadata": {
        "id": "yjLKjdRFMJDo",
        "colab_type": "text"
      },
      "source": [
        "# Modelo RNN"
      ]
    },
    {
      "cell_type": "code",
      "metadata": {
        "id": "HlG68x7zZouw",
        "colab_type": "code",
        "colab": {
          "base_uri": "https://localhost:8080/",
          "height": 357
        },
        "outputId": "466d8dc1-d8f8-4894-9e7a-c10f2286cd63"
      },
      "source": [
        "# Criação do modelo de RNN\n",
        "inputs = keras.Input(shape=(None,), dtype=\"int64\")\n",
        "x = layers.Embedding(encoder.vocab_size, 128)(inputs)\n",
        "x = layers.Bidirectional(layers.LSTM(64, return_sequences=True))(x)\n",
        "x = layers.Bidirectional(layers.LSTM(64))(x)\n",
        "x = layers.Dropout(0.5)(x)\n",
        "outputs = layers.Dense(4, activation=\"softmax\")(x)\n",
        "model = keras.Model(inputs, outputs)\n",
        "model.summary()"
      ],
      "execution_count": 22,
      "outputs": [
        {
          "output_type": "stream",
          "text": [
            "Model: \"functional_1\"\n",
            "_________________________________________________________________\n",
            "Layer (type)                 Output Shape              Param #   \n",
            "=================================================================\n",
            "input_1 (InputLayer)         [(None, None)]            0         \n",
            "_________________________________________________________________\n",
            "embedding (Embedding)        (None, None, 128)         123904    \n",
            "_________________________________________________________________\n",
            "bidirectional (Bidirectional (None, None, 128)         98816     \n",
            "_________________________________________________________________\n",
            "bidirectional_1 (Bidirection (None, 128)               98816     \n",
            "_________________________________________________________________\n",
            "dropout (Dropout)            (None, 128)               0         \n",
            "_________________________________________________________________\n",
            "dense (Dense)                (None, 4)                 516       \n",
            "=================================================================\n",
            "Total params: 322,052\n",
            "Trainable params: 322,052\n",
            "Non-trainable params: 0\n",
            "_________________________________________________________________\n"
          ],
          "name": "stdout"
        }
      ]
    },
    {
      "cell_type": "markdown",
      "metadata": {
        "id": "2GauuZ5YME2M",
        "colab_type": "text"
      },
      "source": [
        "# Treinamento do Modelo"
      ]
    },
    {
      "cell_type": "code",
      "metadata": {
        "id": "IapUftJwrCbp",
        "colab_type": "code",
        "colab": {
          "base_uri": "https://localhost:8080/",
          "height": 357
        },
        "outputId": "ca79e139-7858-4a0e-a0e3-895564b0400b"
      },
      "source": [
        "# Compilando modelo e configurando o processo de treinamento\n",
        "model.compile(loss=\"sparse_categorical_crossentropy\",\n",
        "              optimizer=\"rmsprop\",\n",
        "              metrics=['accuracy'])\n",
        "# Treinando o modelo\n",
        "history = model.fit(x_train, y_train, epochs=epochs,\n",
        "                    batch_size=batch_size,\n",
        "                    validation_data=(x_test, y_test))"
      ],
      "execution_count": 23,
      "outputs": [
        {
          "output_type": "stream",
          "text": [
            "Epoch 1/10\n",
            "5/5 [==============================] - 2s 373ms/step - loss: 1.2418 - accuracy: 0.4964 - val_loss: 1.1616 - val_accuracy: 0.5323\n",
            "Epoch 2/10\n",
            "5/5 [==============================] - 0s 66ms/step - loss: 1.1277 - accuracy: 0.5758 - val_loss: 1.1711 - val_accuracy: 0.5323\n",
            "Epoch 3/10\n",
            "5/5 [==============================] - 0s 66ms/step - loss: 1.0929 - accuracy: 0.5758 - val_loss: 1.1256 - val_accuracy: 0.5323\n",
            "Epoch 4/10\n",
            "5/5 [==============================] - 0s 66ms/step - loss: 1.0388 - accuracy: 0.5794 - val_loss: 1.1262 - val_accuracy: 0.5323\n",
            "Epoch 5/10\n",
            "5/5 [==============================] - 0s 66ms/step - loss: 0.9481 - accuracy: 0.6354 - val_loss: 0.8996 - val_accuracy: 0.6452\n",
            "Epoch 6/10\n",
            "5/5 [==============================] - 0s 66ms/step - loss: 0.7588 - accuracy: 0.7329 - val_loss: 0.7824 - val_accuracy: 0.7097\n",
            "Epoch 7/10\n",
            "5/5 [==============================] - 0s 65ms/step - loss: 0.6395 - accuracy: 0.7653 - val_loss: 0.7154 - val_accuracy: 0.7258\n",
            "Epoch 8/10\n",
            "5/5 [==============================] - 0s 66ms/step - loss: 0.5935 - accuracy: 0.7816 - val_loss: 0.7811 - val_accuracy: 0.7258\n",
            "Epoch 9/10\n",
            "5/5 [==============================] - 0s 66ms/step - loss: 0.5319 - accuracy: 0.7924 - val_loss: 0.7036 - val_accuracy: 0.7258\n",
            "Epoch 10/10\n",
            "5/5 [==============================] - 0s 64ms/step - loss: 0.4810 - accuracy: 0.7906 - val_loss: 0.7113 - val_accuracy: 0.7258\n"
          ],
          "name": "stdout"
        }
      ]
    },
    {
      "cell_type": "markdown",
      "metadata": {
        "id": "qrqaFxUqL8O7",
        "colab_type": "text"
      },
      "source": [
        "# Avaliação do Modelo"
      ]
    },
    {
      "cell_type": "code",
      "metadata": {
        "id": "2ynxEcPOrpo-",
        "colab_type": "code",
        "colab": {
          "base_uri": "https://localhost:8080/",
          "height": 68
        },
        "outputId": "1f627136-fad9-4a60-a7c1-addf6c2f62bc"
      },
      "source": [
        "# Testando a qualidade do modelo\n",
        "test_loss, test_acc = model.evaluate(x_test, y_test)\n",
        "print('Test Loss: {}'.format(test_loss))\n",
        "print('Test Accuracy: {}'.format(test_acc))"
      ],
      "execution_count": 24,
      "outputs": [
        {
          "output_type": "stream",
          "text": [
            "2/2 [==============================] - 0s 14ms/step - loss: 0.7113 - accuracy: 0.7258\n",
            "Test Loss: 0.7113182544708252\n",
            "Test Accuracy: 0.725806474685669\n"
          ],
          "name": "stdout"
        }
      ]
    },
    {
      "cell_type": "markdown",
      "metadata": {
        "id": "cNpZevL7MA-6",
        "colab_type": "text"
      },
      "source": [
        "# Exemplo de Predição"
      ]
    },
    {
      "cell_type": "code",
      "metadata": {
        "id": "cF-SQp7xsznB",
        "colab_type": "code",
        "colab": {}
      },
      "source": [
        "# Função para predição\n",
        "def sample_predict(sample_pred_text):\n",
        "  encoded_sample_pred_text = encoder.encode(sample_pred_text)\n",
        "  encoded_sample_pred_text = tf.cast(encoded_sample_pred_text, tf.float32)\n",
        "  predictions = model.predict(tf.expand_dims(encoded_sample_pred_text, 0))\n",
        "  return (predictions)"
      ],
      "execution_count": 25,
      "outputs": []
    },
    {
      "cell_type": "code",
      "metadata": {
        "id": "BFM6peFDtOXk",
        "colab_type": "code",
        "colab": {
          "base_uri": "https://localhost:8080/",
          "height": 34
        },
        "outputId": "f61b002d-b334-4fa1-8ad9-566a267ebbd5"
      },
      "source": [
        "sample_predict('feel better die happy')"
      ],
      "execution_count": 26,
      "outputs": [
        {
          "output_type": "execute_result",
          "data": {
            "text/plain": [
              "array([[0.02238215, 0.86019254, 0.03252797, 0.08489731]], dtype=float32)"
            ]
          },
          "metadata": {
            "tags": []
          },
          "execution_count": 26
        }
      ]
    },
    {
      "cell_type": "code",
      "metadata": {
        "id": "-awoxRv4tfCW",
        "colab_type": "code",
        "colab": {
          "base_uri": "https://localhost:8080/",
          "height": 34
        },
        "outputId": "d7638288-e083-4138-d33a-142bac174bcb"
      },
      "source": [
        "# Predição do exemplo\n",
        "example = 'feel better die happy'\n",
        "predictions = sample_predict(example)\n",
        "probabilities = [np.argmax(predictions[0])]\n",
        "# Retornando os labels\n",
        "new_label = label_encode.inverse_transform(probabilities)\n",
        "print('O exemplo \"{}\" foi classificado como \"{}\"'.format(example, new_label[0]))"
      ],
      "execution_count": 41,
      "outputs": [
        {
          "output_type": "stream",
          "text": [
            "O exemplo \"feel better die happy\" foi classificado como \"Depression\"\n"
          ],
          "name": "stdout"
        }
      ]
    },
    {
      "cell_type": "markdown",
      "metadata": {
        "id": "qHGUi9zgJxly",
        "colab_type": "text"
      },
      "source": [
        "# Bônus - Tradução de texto com python"
      ]
    },
    {
      "cell_type": "code",
      "metadata": {
        "id": "EHry9zw9JwK9",
        "colab_type": "code",
        "colab": {}
      },
      "source": [
        "!pip install googletrans"
      ],
      "execution_count": null,
      "outputs": []
    },
    {
      "cell_type": "code",
      "metadata": {
        "id": "626mCIhdJCWp",
        "colab_type": "code",
        "colab": {
          "base_uri": "https://localhost:8080/",
          "height": 51
        },
        "outputId": "eacd68ba-6b79-4a5b-d9ba-4aefb6f0e131"
      },
      "source": [
        "from googletrans import Translator\n",
        "\n",
        "translator = Translator()\n",
        "translation_example = translator.translate(example, dest='pt')\n",
        "translation_label = translator.translate(new_label[0], dest='pt')\n",
        "print('Exemplo Original \"{}\" ---> Label Original \"{}\"'.format(translation_example.origin, translation_label.origin))\n",
        "print('Exemplo Traduzido \"{}\" ---> Label Traduzido \"{}\"'.format(translation_example.text, translation_label.text))"
      ],
      "execution_count": 39,
      "outputs": [
        {
          "output_type": "stream",
          "text": [
            "Exemplo Original \"feel better die happy\" ---> Label Original \"Depression\"\n",
            "Exemplo Traduzido \"sinta-se melhor morrer feliz\" ---> Label Traduzido \"Depressão\"\n"
          ],
          "name": "stdout"
        }
      ]
    }
  ]
}